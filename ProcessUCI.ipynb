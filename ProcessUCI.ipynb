{
 "cells": [
  {
   "cell_type": "markdown",
   "metadata": {},
   "source": [
    "# UCIHAR EDA"
   ]
  },
  {
   "cell_type": "code",
   "execution_count": 1,
   "metadata": {
    "ExecuteTime": {
     "end_time": "2021-04-08T20:03:17.145858Z",
     "start_time": "2021-04-08T20:03:16.065675Z"
    }
   },
   "outputs": [],
   "source": [
    "# Imports\n",
    "import numpy as np\n",
    "import pandas as pd\n",
    "import re # for parsing files\n",
    "import matplotlib.pyplot as plt\n",
    "from sklearn.preprocessing import LabelBinarizer"
   ]
  },
  {
   "cell_type": "code",
   "execution_count": 2,
   "metadata": {
    "ExecuteTime": {
     "end_time": "2021-04-08T20:03:17.726540Z",
     "start_time": "2021-04-08T20:03:17.720556Z"
    }
   },
   "outputs": [],
   "source": [
    "# Need to convert to float from scientific num notation\n",
    "def sci2float(string_rep):\n",
    "    '''Convert string of the form \"x.xxxxe+/-xxx\" to a float'''\n",
    "    try:\n",
    "        return float(string_rep) # normally just works\n",
    "    except:\n",
    "        parts = re.split(r'e', string_rep)\n",
    "        coeff = float(parts[0])\n",
    "        if parts[1] == '':\n",
    "            return coeff\n",
    "        else:\n",
    "            exponent = int(parts[1])\n",
    "            return coeff*10**exponent"
   ]
  },
  {
   "cell_type": "markdown",
   "metadata": {},
   "source": [
    "Main function for scraping the .txt files. Each row represents one time window of observations for each sensor. e.g the first row of body_acc_x_test.txt is the first 128 measurements of that sensor. Some of the rows have more than 128 values so I've just taken the first 128 values (not sure this is the best approach)."
   ]
  },
  {
   "cell_type": "code",
   "execution_count": 3,
   "metadata": {
    "ExecuteTime": {
     "end_time": "2021-04-08T20:03:20.400208Z",
     "start_time": "2021-04-08T20:03:20.391830Z"
    }
   },
   "outputs": [],
   "source": [
    "BASE_PATH = '../../data/UCI HAR/UCI HAR Dataset/'\n",
    "def construct_UCIHAR(path, isTest = False):\n",
    "    \"\"\"Builds dataframe for UCI dataset. Either test or train set based on isTest variable.\n",
    "    \n",
    "    Args:\n",
    "        path: (str) path to UCIHAR dataset folder, which should have following structure:\n",
    "            test\n",
    "               |---Inertial Signals\n",
    "               |   |---body_acc_x_test.txt\n",
    "               |   |---...\n",
    "               |   |---total_acc_z_test.txt\n",
    "               |---subject_test.txt\n",
    "            train\n",
    "               |---Ìnertial Signals\n",
    "               |   |---body_acc_x_train.txt\n",
    "               |   |---...\n",
    "               |   |---total_acc_z_test.txt\n",
    "               |---subject_train.txt\n",
    "        isTest: (bool) if true, gets the test set data, else gets training data. \n",
    "        \n",
    "    Returns:\n",
    "        data: pandas dataframe with following columns:\n",
    "            Subject: the subject whose activity is being measured\n",
    "            X_acc: array representing the X accelerometer signal over 128 measurements\n",
    "            Y_acc: see above\n",
    "            Z _acc: see above\n",
    "            X_gyr: array representing the X gyroscope signal over 128 measurements\n",
    "            Y_gyr: see above\n",
    "            Z_gyr: see above\n",
    "            X_tot: array representing the Z\n",
    "            Y_tot:\n",
    "            Z_tot: \n",
    "            Activity: the activity label of the 128 measurement interval.\n",
    "            Each row gives us the data from a timewindow of 2.56 seconds (128 measurements at 50Hz) with\n",
    "            the activity at that time.\n",
    "    \"\"\"\n",
    "    if isTest:\n",
    "        base_path = path + 'test/'\n",
    "        suffix = '_test.txt'\n",
    "    else:\n",
    "        base_path = path + 'train/'\n",
    "        suffix = '_train.txt'\n",
    "\n",
    "    sub_paths = ['subject',\n",
    "                 'Inertial Signals/body_acc_x',\n",
    "                 'Inertial Signals/body_acc_y', \n",
    "                 'Inertial Signals/body_acc_z',\n",
    "                 'Inertial Signals/body_gyro_x',\n",
    "                 'Inertial Signals/body_gyro_y',\n",
    "                 'Inertial Signals/body_gyro_z',\n",
    "                 'Inertial Signals/total_acc_x',\n",
    "                 'Inertial Signals/total_acc_y', \n",
    "                 'Inertial Signals/total_acc_z',\n",
    "                 'y']\n",
    "    \n",
    "    colnames = ['Subject', 'X_acc', 'Y_acc', 'Z_acc', 'X_gyr', 'Y_gyr', 'Z_gyr', 'X_tot', 'Y_tot', 'Z_tot', 'Activity']\n",
    "    datafiles = [base_path + sub_path + suffix for sub_path in sub_paths]\n",
    "    cols = {col: None for col in colnames}\n",
    "    for i, filepath in enumerate(datafiles):\n",
    "        column = []\n",
    "        with open(filepath) as file:\n",
    "            for entry in file:\n",
    "                data = re.findall(r'[\\w\\d.-]+', entry)\n",
    "                if len(data) == 1:\n",
    "                    column.append(data[0])\n",
    "                else:\n",
    "                    data_conv = np.array([sci2float(point) for point in data][:64])\n",
    "                    column.append(data_conv)\n",
    "        cols[colnames[i]] = column\n",
    "        \n",
    "    data = pd.DataFrame.from_dict(cols)\n",
    "    return data"
   ]
  },
  {
   "cell_type": "markdown",
   "metadata": {},
   "source": [
    "Then to construct the sensor dataframes, just do:"
   ]
  },
  {
   "cell_type": "code",
   "execution_count": 4,
   "metadata": {
    "ExecuteTime": {
     "end_time": "2021-04-08T20:03:32.905144Z",
     "start_time": "2021-04-08T20:03:22.264563Z"
    }
   },
   "outputs": [],
   "source": [
    "train_data = construct_UCIHAR(BASE_PATH)\n",
    "test_data = construct_UCIHAR(BASE_PATH, isTest = True)"
   ]
  },
  {
   "cell_type": "code",
   "execution_count": 5,
   "metadata": {
    "ExecuteTime": {
     "end_time": "2021-04-08T20:03:32.962785Z",
     "start_time": "2021-04-08T20:03:32.906883Z"
    }
   },
   "outputs": [
    {
     "data": {
      "text/html": [
       "<div>\n",
       "<style scoped>\n",
       "    .dataframe tbody tr th:only-of-type {\n",
       "        vertical-align: middle;\n",
       "    }\n",
       "\n",
       "    .dataframe tbody tr th {\n",
       "        vertical-align: top;\n",
       "    }\n",
       "\n",
       "    .dataframe thead th {\n",
       "        text-align: right;\n",
       "    }\n",
       "</style>\n",
       "<table border=\"1\" class=\"dataframe\">\n",
       "  <thead>\n",
       "    <tr style=\"text-align: right;\">\n",
       "      <th></th>\n",
       "      <th>Subject</th>\n",
       "      <th>X_acc</th>\n",
       "      <th>Y_acc</th>\n",
       "      <th>Z_acc</th>\n",
       "      <th>X_gyr</th>\n",
       "      <th>Y_gyr</th>\n",
       "      <th>Z_gyr</th>\n",
       "      <th>X_tot</th>\n",
       "      <th>Y_tot</th>\n",
       "      <th>Z_tot</th>\n",
       "      <th>Activity</th>\n",
       "    </tr>\n",
       "  </thead>\n",
       "  <tbody>\n",
       "    <tr>\n",
       "      <th>0</th>\n",
       "      <td>1</td>\n",
       "      <td>[0.0001808515, 0.01013856, 0.009275574, 0.0050...</td>\n",
       "      <td>[0.01076681, 0.00657948, 0.008928878, 0.007488...</td>\n",
       "      <td>[0.05556068, 0.05512483, 0.04840473, 0.0497749...</td>\n",
       "      <td>[0.03019122, 0.04371071, 0.0356878, 0.0404021,...</td>\n",
       "      <td>[0.06601362, 0.04269897, 0.07485018, 0.0573197...</td>\n",
       "      <td>[0.02285864, 0.01031572, 0.01324969, 0.0177512...</td>\n",
       "      <td>[1.012817, 0.0, 1.022833, 0.0, 1.022028, 0.0, ...</td>\n",
       "      <td>[-0.1232167, -0.1268756, -0.1240037, -0.124927...</td>\n",
       "      <td>[0.1029341, 0.1056872, 0.1021025, 0.1065527, 0...</td>\n",
       "      <td>5</td>\n",
       "    </tr>\n",
       "    <tr>\n",
       "      <th>1</th>\n",
       "      <td>1</td>\n",
       "      <td>[0.001093752, 0.004550077, 0.002879173, 0.0022...</td>\n",
       "      <td>[-0.004687588, -0.007487894, -0.008429991, -0....</td>\n",
       "      <td>[-0.02685954, -0.02509841, -0.02597534, -0.026...</td>\n",
       "      <td>[0.01711106, 0.02417851, 0.03022889, 0.0320285...</td>\n",
       "      <td>[0.006122797, 0.009710357, 0.01032192, 0.01341...</td>\n",
       "      <td>[0.01226815, 0.01614958, 0.01589471, 0.0126711...</td>\n",
       "      <td>[1.018851, 0.0, 1.02238, 0.0, 1.020781, 0.0, 1...</td>\n",
       "      <td>[-0.123976, -0.1268078, -0.1277862, -0.1266547...</td>\n",
       "      <td>[0.09792958, 0.09935086, 0.09811381, 0.0975171...</td>\n",
       "      <td>5</td>\n",
       "    </tr>\n",
       "    <tr>\n",
       "      <th>2</th>\n",
       "      <td>1</td>\n",
       "      <td>[0.003531266, 0.002285063, -0.0004197538, -0.0...</td>\n",
       "      <td>[0.004455942, 0.003045876, 0.001776179, 0.0009...</td>\n",
       "      <td>[-0.005914581, -0.004138911, -0.0005428851, 0....</td>\n",
       "      <td>[0.02618877, 0.02165149, 0.01455062, 0.0148146...</td>\n",
       "      <td>[-0.000238341, -0.0004275982, 0.000761135, -0....</td>\n",
       "      <td>[0.002158897, -0.0002724752, 0.002630986, 0.00...</td>\n",
       "      <td>[1.023127, 0.0, 1.021882, 0.0, 1.019178, 0.0, ...</td>\n",
       "      <td>[-0.1200157, -0.1214994, -0.1228407, -0.123717...</td>\n",
       "      <td>[0.09111667, 0.0926756, 0.09606378, 0.09989713...</td>\n",
       "      <td>5</td>\n",
       "    </tr>\n",
       "    <tr>\n",
       "      <th>3</th>\n",
       "      <td>1</td>\n",
       "      <td>[-0.001772352, -0.001311448, 0.0003876795, 0.0...</td>\n",
       "      <td>[-0.01018541, -0.01125254, -0.0121963, -0.0111...</td>\n",
       "      <td>[0.001053255, 0.001227295, -0.006004362, -0.00...</td>\n",
       "      <td>[-0.03751574, -0.033097, -0.03036013, -0.02500...</td>\n",
       "      <td>[-0.01288632, -0.01691822, -0.01618518, -0.012...</td>\n",
       "      <td>[-0.0008727416, -0.00548197, -0.00467823, -0.0...</td>\n",
       "      <td>[1.017682, 0.0, 1.018149, 0.0, 1.019854, 0.0, ...</td>\n",
       "      <td>[-0.1334039, -0.1343639, -0.1352028, -0.134048...</td>\n",
       "      <td>[0.0951518, 0.09541539, 0.08827355, 0.08632477...</td>\n",
       "      <td>5</td>\n",
       "    </tr>\n",
       "    <tr>\n",
       "      <th>4</th>\n",
       "      <td>1</td>\n",
       "      <td>[8.747685e-05, -0.0002719175, 0.001022103, 0.0...</td>\n",
       "      <td>[-0.003856929, -0.002837935, -0.003086418, -0....</td>\n",
       "      <td>[-0.01333336, -0.01494756, -0.01567863, -0.009...</td>\n",
       "      <td>[-0.01942932, -0.01909099, -0.01481631, -0.013...</td>\n",
       "      <td>[-0.008612378, -0.008146719, -0.00537662, -0.0...</td>\n",
       "      <td>[-0.00157401, 0.0002007077, -0.0009700938, -0....</td>\n",
       "      <td>[1.019952, 0.0, 1.019616, 0.0, 1.020933, 0.0, ...</td>\n",
       "      <td>[-0.1287306, -0.1278461, -0.12823, -0.1298541,...</td>\n",
       "      <td>[0.0808414, 0.07912684, 0.07829138, 0.08406305...</td>\n",
       "      <td>5</td>\n",
       "    </tr>\n",
       "  </tbody>\n",
       "</table>\n",
       "</div>"
      ],
      "text/plain": [
       "  Subject                                              X_acc  \\\n",
       "0       1  [0.0001808515, 0.01013856, 0.009275574, 0.0050...   \n",
       "1       1  [0.001093752, 0.004550077, 0.002879173, 0.0022...   \n",
       "2       1  [0.003531266, 0.002285063, -0.0004197538, -0.0...   \n",
       "3       1  [-0.001772352, -0.001311448, 0.0003876795, 0.0...   \n",
       "4       1  [8.747685e-05, -0.0002719175, 0.001022103, 0.0...   \n",
       "\n",
       "                                               Y_acc  \\\n",
       "0  [0.01076681, 0.00657948, 0.008928878, 0.007488...   \n",
       "1  [-0.004687588, -0.007487894, -0.008429991, -0....   \n",
       "2  [0.004455942, 0.003045876, 0.001776179, 0.0009...   \n",
       "3  [-0.01018541, -0.01125254, -0.0121963, -0.0111...   \n",
       "4  [-0.003856929, -0.002837935, -0.003086418, -0....   \n",
       "\n",
       "                                               Z_acc  \\\n",
       "0  [0.05556068, 0.05512483, 0.04840473, 0.0497749...   \n",
       "1  [-0.02685954, -0.02509841, -0.02597534, -0.026...   \n",
       "2  [-0.005914581, -0.004138911, -0.0005428851, 0....   \n",
       "3  [0.001053255, 0.001227295, -0.006004362, -0.00...   \n",
       "4  [-0.01333336, -0.01494756, -0.01567863, -0.009...   \n",
       "\n",
       "                                               X_gyr  \\\n",
       "0  [0.03019122, 0.04371071, 0.0356878, 0.0404021,...   \n",
       "1  [0.01711106, 0.02417851, 0.03022889, 0.0320285...   \n",
       "2  [0.02618877, 0.02165149, 0.01455062, 0.0148146...   \n",
       "3  [-0.03751574, -0.033097, -0.03036013, -0.02500...   \n",
       "4  [-0.01942932, -0.01909099, -0.01481631, -0.013...   \n",
       "\n",
       "                                               Y_gyr  \\\n",
       "0  [0.06601362, 0.04269897, 0.07485018, 0.0573197...   \n",
       "1  [0.006122797, 0.009710357, 0.01032192, 0.01341...   \n",
       "2  [-0.000238341, -0.0004275982, 0.000761135, -0....   \n",
       "3  [-0.01288632, -0.01691822, -0.01618518, -0.012...   \n",
       "4  [-0.008612378, -0.008146719, -0.00537662, -0.0...   \n",
       "\n",
       "                                               Z_gyr  \\\n",
       "0  [0.02285864, 0.01031572, 0.01324969, 0.0177512...   \n",
       "1  [0.01226815, 0.01614958, 0.01589471, 0.0126711...   \n",
       "2  [0.002158897, -0.0002724752, 0.002630986, 0.00...   \n",
       "3  [-0.0008727416, -0.00548197, -0.00467823, -0.0...   \n",
       "4  [-0.00157401, 0.0002007077, -0.0009700938, -0....   \n",
       "\n",
       "                                               X_tot  \\\n",
       "0  [1.012817, 0.0, 1.022833, 0.0, 1.022028, 0.0, ...   \n",
       "1  [1.018851, 0.0, 1.02238, 0.0, 1.020781, 0.0, 1...   \n",
       "2  [1.023127, 0.0, 1.021882, 0.0, 1.019178, 0.0, ...   \n",
       "3  [1.017682, 0.0, 1.018149, 0.0, 1.019854, 0.0, ...   \n",
       "4  [1.019952, 0.0, 1.019616, 0.0, 1.020933, 0.0, ...   \n",
       "\n",
       "                                               Y_tot  \\\n",
       "0  [-0.1232167, -0.1268756, -0.1240037, -0.124927...   \n",
       "1  [-0.123976, -0.1268078, -0.1277862, -0.1266547...   \n",
       "2  [-0.1200157, -0.1214994, -0.1228407, -0.123717...   \n",
       "3  [-0.1334039, -0.1343639, -0.1352028, -0.134048...   \n",
       "4  [-0.1287306, -0.1278461, -0.12823, -0.1298541,...   \n",
       "\n",
       "                                               Z_tot Activity  \n",
       "0  [0.1029341, 0.1056872, 0.1021025, 0.1065527, 0...        5  \n",
       "1  [0.09792958, 0.09935086, 0.09811381, 0.0975171...        5  \n",
       "2  [0.09111667, 0.0926756, 0.09606378, 0.09989713...        5  \n",
       "3  [0.0951518, 0.09541539, 0.08827355, 0.08632477...        5  \n",
       "4  [0.0808414, 0.07912684, 0.07829138, 0.08406305...        5  "
      ]
     },
     "execution_count": 5,
     "metadata": {},
     "output_type": "execute_result"
    }
   ],
   "source": [
    "train_data.head()"
   ]
  },
  {
   "cell_type": "markdown",
   "metadata": {},
   "source": [
    "We need to apply one hot encoding to the labels:"
   ]
  },
  {
   "cell_type": "code",
   "execution_count": 6,
   "metadata": {
    "ExecuteTime": {
     "end_time": "2021-04-08T20:03:32.970729Z",
     "start_time": "2021-04-08T20:03:32.964745Z"
    }
   },
   "outputs": [
    {
     "data": {
      "text/plain": [
       "0       5\n",
       "1       5\n",
       "2       5\n",
       "3       5\n",
       "4       5\n",
       "       ..\n",
       "7347    2\n",
       "7348    2\n",
       "7349    2\n",
       "7350    2\n",
       "7351    2\n",
       "Name: Activity, Length: 7352, dtype: object"
      ]
     },
     "execution_count": 6,
     "metadata": {},
     "output_type": "execute_result"
    }
   ],
   "source": [
    "train_data['Activity']"
   ]
  },
  {
   "cell_type": "code",
   "execution_count": 7,
   "metadata": {
    "ExecuteTime": {
     "end_time": "2021-04-08T20:03:34.462421Z",
     "start_time": "2021-04-08T20:03:34.456374Z"
    }
   },
   "outputs": [
    {
     "data": {
      "text/plain": [
       "array(['5', '5', '5', ..., '2', '2', '2'], dtype=object)"
      ]
     },
     "execution_count": 7,
     "metadata": {},
     "output_type": "execute_result"
    }
   ],
   "source": [
    "# Labels with One-hot encoding form\n",
    "# label_encoder = LabelBinarizer()\n",
    "# train_labels = label_encoder.fit_transform(train_data['Activity'])\n",
    "# Labels with Numpy form\n",
    "train_labels = train_data['Activity'].to_numpy()\n",
    "train_labels"
   ]
  },
  {
   "cell_type": "markdown",
   "metadata": {},
   "source": [
    "Need to carry over this transform so we have a key of which activity is which vector representation (by using label_encoder.inverse_transform)\n",
    "\n",
    "## Creating activity image"
   ]
  },
  {
   "cell_type": "code",
   "execution_count": 8,
   "metadata": {
    "ExecuteTime": {
     "end_time": "2021-04-08T20:03:36.518027Z",
     "start_time": "2021-04-08T20:03:36.512043Z"
    }
   },
   "outputs": [],
   "source": [
    "# Implementation of Jiang and Yin's algorithm\n",
    "def layering_alg(signals):\n",
    "    i = 0\n",
    "    j = i + 1\n",
    "    Ns = len(signals)\n",
    "    SI = [signals[i]]\n",
    "    SIS = str(i)\n",
    "    while len(SIS) < Ns*(Ns-1)/2:\n",
    "        while i != j:\n",
    "            if j > Ns - 1:\n",
    "                j = 0\n",
    "            elif (str(i) + str(j) not in SIS) and (str(j) + str(i) not in SIS) and (i != j):\n",
    "                SI.append(signals[j])\n",
    "                SIS += str(j)\n",
    "                i = int(SIS[-1])\n",
    "                j = i + 1\n",
    "            else:\n",
    "                j = j + 1\n",
    "        i += 1\n",
    "    return np.array(SI)"
   ]
  },
  {
   "cell_type": "code",
   "execution_count": 9,
   "metadata": {
    "ExecuteTime": {
     "end_time": "2021-04-08T20:03:37.221149Z",
     "start_time": "2021-04-08T20:03:37.216163Z"
    }
   },
   "outputs": [
    {
     "data": {
      "text/plain": [
       "37"
      ]
     },
     "execution_count": 9,
     "metadata": {},
     "output_type": "execute_result"
    }
   ],
   "source": [
    "len(layering_alg(range(9)))"
   ]
  },
  {
   "cell_type": "markdown",
   "metadata": {},
   "source": [
    "Now we generate the base activity image arrays row by row over the dataframe."
   ]
  },
  {
   "cell_type": "code",
   "execution_count": 10,
   "metadata": {
    "ExecuteTime": {
     "end_time": "2021-04-08T20:03:43.850599Z",
     "start_time": "2021-04-08T20:03:38.976120Z"
    },
    "scrolled": true
   },
   "outputs": [],
   "source": [
    "columns = ['X_acc', 'Y_acc', 'Z_acc', 'X_gyr', 'Y_gyr', 'Z_gyr', 'X_tot', 'Y_tot', 'Z_tot']\n",
    "\n",
    "def activity_image(row, columns):\n",
    "    indices = layering_alg(columns)[:-1]\n",
    "    activity_image = np.vstack([row[col] for col in indices])\n",
    "    return activity_image\n",
    "\n",
    "# train_data['activity_image'] = train_data.apply(lambda row: activity_image(row, columns), axis = 1)\n",
    "train_features = np.empty(shape = (len(train_data), 36, 64))\n",
    "for i, window in train_data.iterrows():\n",
    "    train_features[i, :, :] = activity_image(window, columns)"
   ]
  },
  {
   "cell_type": "code",
   "execution_count": 11,
   "metadata": {
    "ExecuteTime": {
     "end_time": "2021-04-08T20:03:44.053634Z",
     "start_time": "2021-04-08T20:03:43.851296Z"
    }
   },
   "outputs": [
    {
     "data": {
      "image/png": "[encoded data removed]",
      "text/plain": [
       "<Figure size 1296x504 with 1 Axes>"
      ]
     },
     "metadata": {
      "needs_background": "light"
     },
     "output_type": "display_data"
    }
   ],
   "source": [
    "plt.figure(figsize = (18, 7))\n",
    "plt.imshow(-train_features[100], cmap = 'Greys')\n",
    "plt.show()"
   ]
  },
  {
   "cell_type": "markdown",
   "metadata": {},
   "source": [
    "## Applying Fourier Transform\n",
    "Need to apply the 2D discrete fourier transform and take the absolute value, since result is complex and we want the magnitude. The shape of the output of this is the same as the input. By default `np.fft.fft2` uses the last two dimensions, which is what we want."
   ]
  },
  {
   "cell_type": "code",
   "execution_count": 12,
   "metadata": {
    "ExecuteTime": {
     "end_time": "2021-04-08T20:03:48.778998Z",
     "start_time": "2021-04-08T20:03:48.096658Z"
    }
   },
   "outputs": [],
   "source": [
    "train_features_fft = np.abs(np.fft.fft2(train_features))"
   ]
  },
  {
   "cell_type": "code",
   "execution_count": 13,
   "metadata": {
    "ExecuteTime": {
     "end_time": "2021-04-08T20:03:50.934252Z",
     "start_time": "2021-04-08T20:03:50.791510Z"
    }
   },
   "outputs": [
    {
     "data": {
      "image/png": "[encoded data removed]",
      "text/plain": [
       "<Figure size 1296x504 with 1 Axes>"
      ]
     },
     "metadata": {
      "needs_background": "light"
     },
     "output_type": "display_data"
    }
   ],
   "source": [
    "plt.figure(figsize = (18, 7))\n",
    "plt.imshow(-train_features_fft[100], cmap = 'Greys') # negative so the darker values represent higher numbers.\n",
    "plt.show()"
   ]
  },
  {
   "cell_type": "markdown",
   "metadata": {},
   "source": [
    "Some images look less interesting since the values are so small, so when you plot as image most of the values go to 0. This isn't a problem (I don't think). For example:"
   ]
  },
  {
   "cell_type": "code",
   "execution_count": 14,
   "metadata": {
    "ExecuteTime": {
     "end_time": "2021-04-08T20:03:55.560266Z",
     "start_time": "2021-04-08T20:03:55.407984Z"
    }
   },
   "outputs": [
    {
     "name": "stdout",
     "output_type": "stream",
     "text": [
      "[144.78164455   6.54589858   4.82741263   2.44567314   2.57085951\n",
      "   1.1690165    1.57771081   1.5652903    0.6485695    1.00933124\n",
      "   0.563087     0.93661018   0.70041061   0.58156389   0.5710216\n",
      "   0.47201209   0.25468907   0.7147052    0.51090131   0.24247343\n",
      "   0.38153077   0.33107222   0.30836029   0.32160915   0.52768932\n",
      "   0.90439822   0.74560597   0.36561642   0.35758555   0.41812968\n",
      "   0.40975973   0.38531586 130.91032017   0.38531586   0.40975973\n",
      "   0.41812968   0.35758555   0.36561642   0.74560597   0.90439822\n",
      "   0.52768932   0.32160915   0.30836029   0.33107222   0.38153077\n",
      "   0.24247343   0.51090131   0.7147052    0.25468907   0.47201209\n",
      "   0.5710216    0.58156389   0.70041061   0.93661018   0.563087\n",
      "   1.00933124   0.6485695    1.5652903    1.57771081   1.1690165\n",
      "   2.57085951   2.44567314   4.82741263   6.54589858]\n"
     ]
    },
    {
     "data": {
      "image/png": "[encoded data removed]",
      "text/plain": [
       "<Figure size 1296x504 with 1 Axes>"
      ]
     },
     "metadata": {
      "needs_background": "light"
     },
     "output_type": "display_data"
    }
   ],
   "source": [
    "print(train_features_fft[0][0]) # top row of the first image.\n",
    "plt.figure(figsize = (18, 7))\n",
    "plt.imshow(-train_features_fft[0], cmap = 'Greys')\n",
    "plt.show()"
   ]
  },
  {
   "cell_type": "markdown",
   "metadata": {},
   "source": [
    "Now our final features and labels, which will be fed into our CNN and LSTM models, are `train_features_fft` and `train_labels` respectively. The approach with the dataframe as the intermediate step isn't important, so long as the final results are in this form. Just did it that way to help me understand the data."
   ]
  },
  {
   "cell_type": "code",
   "execution_count": 15,
   "metadata": {
    "ExecuteTime": {
     "end_time": "2021-04-08T20:03:57.387526Z",
     "start_time": "2021-04-08T20:03:57.383530Z"
    }
   },
   "outputs": [
    {
     "name": "stdout",
     "output_type": "stream",
     "text": [
      "(7352, 36, 64)\n",
      "(7352,)\n"
     ]
    }
   ],
   "source": [
    "print(train_features_fft.shape)\n",
    "print(train_labels.shape)"
   ]
  },
  {
   "cell_type": "markdown",
   "metadata": {},
   "source": [
    "## Saving the models"
   ]
  },
  {
   "cell_type": "markdown",
   "metadata": {},
   "source": [
    "First we want to apply the same process to our test data:"
   ]
  },
  {
   "cell_type": "code",
   "execution_count": 16,
   "metadata": {
    "ExecuteTime": {
     "end_time": "2021-04-08T20:04:01.771811Z",
     "start_time": "2021-04-08T20:03:59.561888Z"
    }
   },
   "outputs": [],
   "source": [
    "test_features = np.empty(shape = (len(test_data), 36, 64))\n",
    "for i, window in test_data.iterrows():\n",
    "    test_features[i, :, :] = activity_image(window, columns)\n",
    "    \n",
    "test_features_fft = np.abs(np.fft.fft2(test_features))"
   ]
  },
  {
   "cell_type": "code",
   "execution_count": 17,
   "metadata": {
    "ExecuteTime": {
     "end_time": "2021-04-08T20:04:04.118275Z",
     "start_time": "2021-04-08T20:04:04.112290Z"
    }
   },
   "outputs": [
    {
     "data": {
      "text/plain": [
       "array(['5', '5', '5', ..., '2', '2', '2'], dtype=object)"
      ]
     },
     "execution_count": 17,
     "metadata": {},
     "output_type": "execute_result"
    }
   ],
   "source": [
    "# Labels with One-hot encoding form\n",
    "# test_labels = label_encoder.transform(test_data['Activity'])\n",
    "# Labels with Numpy form\n",
    "test_labels = test_data['Activity'].to_numpy()\n",
    "test_labels"
   ]
  },
  {
   "cell_type": "markdown",
   "metadata": {},
   "source": [
    "Now save the models:"
   ]
  },
  {
   "cell_type": "code",
   "execution_count": 19,
   "metadata": {
    "ExecuteTime": {
     "end_time": "2021-04-08T20:04:16.340599Z",
     "start_time": "2021-04-08T20:04:15.168348Z"
    }
   },
   "outputs": [],
   "source": [
    "np.save('UCI_train_features_64.npy', train_features_fft)\n",
    "np.save('UCI_train_labels_64.npy', train_labels)\n",
    "np.save('UCI_test_features_64.npy', test_features_fft)\n",
    "np.save('UCI_test_labels_64.npy', test_labels)"
   ]
  },
  {
   "cell_type": "markdown",
   "metadata": {},
   "source": [
    "To load data, simply do:"
   ]
  },
  {
   "cell_type": "code",
   "execution_count": 25,
   "metadata": {
    "ExecuteTime": {
     "end_time": "2021-04-08T19:51:00.570205Z",
     "start_time": "2021-04-08T19:51:00.447927Z"
    },
    "scrolled": true
   },
   "outputs": [
    {
     "name": "stdout",
     "output_type": "stream",
     "text": [
      "[[[ True  True  True ...  True  True  True]\n",
      "  [ True  True  True ...  True  True  True]\n",
      "  [ True  True  True ...  True  True  True]\n",
      "  ...\n",
      "  [ True  True  True ...  True  True  True]\n",
      "  [ True  True  True ...  True  True  True]\n",
      "  [ True  True  True ...  True  True  True]]\n",
      "\n",
      " [[ True  True  True ...  True  True  True]\n",
      "  [ True  True  True ...  True  True  True]\n",
      "  [ True  True  True ...  True  True  True]\n",
      "  ...\n",
      "  [ True  True  True ...  True  True  True]\n",
      "  [ True  True  True ...  True  True  True]\n",
      "  [ True  True  True ...  True  True  True]]\n",
      "\n",
      " [[ True  True  True ...  True  True  True]\n",
      "  [ True  True  True ...  True  True  True]\n",
      "  [ True  True  True ...  True  True  True]\n",
      "  ...\n",
      "  [ True  True  True ...  True  True  True]\n",
      "  [ True  True  True ...  True  True  True]\n",
      "  [ True  True  True ...  True  True  True]]\n",
      "\n",
      " ...\n",
      "\n",
      " [[ True  True  True ...  True  True  True]\n",
      "  [ True  True  True ...  True  True  True]\n",
      "  [ True  True  True ...  True  True  True]\n",
      "  ...\n",
      "  [ True  True  True ...  True  True  True]\n",
      "  [ True  True  True ...  True  True  True]\n",
      "  [ True  True  True ...  True  True  True]]\n",
      "\n",
      " [[ True  True  True ...  True  True  True]\n",
      "  [ True  True  True ...  True  True  True]\n",
      "  [ True  True  True ...  True  True  True]\n",
      "  ...\n",
      "  [ True  True  True ...  True  True  True]\n",
      "  [ True  True  True ...  True  True  True]\n",
      "  [ True  True  True ...  True  True  True]]\n",
      "\n",
      " [[ True  True  True ...  True  True  True]\n",
      "  [ True  True  True ...  True  True  True]\n",
      "  [ True  True  True ...  True  True  True]\n",
      "  ...\n",
      "  [ True  True  True ...  True  True  True]\n",
      "  [ True  True  True ...  True  True  True]\n",
      "  [ True  True  True ...  True  True  True]]]\n"
     ]
    }
   ],
   "source": [
    "reloaded_train_features_fft = np.load('UCI_train_features_64.npy')\n",
    "print(reloaded_train_features_fft == train_features_fft) # Show they are identical"
   ]
  }
 ],
 "metadata": {
  "kernelspec": {
   "display_name": "Python 3",
   "language": "python",
   "name": "python3"
  },
  "language_info": {
   "codemirror_mode": {
    "name": "ipython",
    "version": 3
   },
   "file_extension": ".py",
   "mimetype": "text/x-python",
   "name": "python",
   "nbconvert_exporter": "python",
   "pygments_lexer": "ipython3",
   "version": "3.8.3"
  }
 },
 "nbformat": 4,
 "nbformat_minor": 4
}
