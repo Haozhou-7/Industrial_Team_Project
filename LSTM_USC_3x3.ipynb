{
 "cells": [
  {
   "cell_type": "markdown",
   "metadata": {},
   "source": [
    "CNN_LSTM_kernel_size_3x3"
   ]
  },
  {
   "cell_type": "code",
   "execution_count": 1,
   "metadata": {
    "ExecuteTime": {
     "end_time": "2021-04-28T16:43:08.110515Z",
     "start_time": "2021-04-28T16:43:06.616874Z"
    }
   },
   "outputs": [],
   "source": [
    "%matplotlib inline\n",
    "import matplotlib.pyplot as plt\n",
    "import numpy as np\n",
    "import torch\n",
    "import torch.nn as nn\n",
    "import torch.nn.functional as F\n",
    "import torch.optim as optim\n",
    "import torchvision\n",
    "from torchvision import datasets, transforms\n",
    "from torch.utils.data import TensorDataset, DataLoader"
   ]
  },
  {
   "cell_type": "code",
   "execution_count": 2,
   "metadata": {
    "ExecuteTime": {
     "end_time": "2021-04-28T16:43:08.173356Z",
     "start_time": "2021-04-28T16:43:08.111476Z"
    }
   },
   "outputs": [],
   "source": [
    "# Set random seed for numpy\n",
    "np.random.seed(11)\n",
    "# Set random seed for pytorch\n",
    "torch.manual_seed(11)\n",
    "# Set random seed for pytorch running in GPU\n",
    "if torch.cuda.is_available():\n",
    "    torch.cuda.manual_seed_all(11)"
   ]
  },
  {
   "cell_type": "code",
   "execution_count": 3,
   "metadata": {
    "ExecuteTime": {
     "end_time": "2021-04-28T16:43:08.177321Z",
     "start_time": "2021-04-28T16:43:08.174328Z"
    }
   },
   "outputs": [],
   "source": [
    "# USC_train_features = np.load(\"usc_single/train_features_USC_128.npy\") ### <- change file path\n",
    "# USC_test_features = np.load(\"usc_single/test_features_USC_128.npy\")\n",
    "# USC_train_labels = np.load(\"usc_single/train_labels_USC_128.npy\")\n",
    "# USC_test_labels = np.load(\"usc_single/test_labels_USC_128.npy\")"
   ]
  },
  {
   "cell_type": "code",
   "execution_count": 4,
   "metadata": {
    "ExecuteTime": {
     "end_time": "2021-04-28T16:43:11.521209Z",
     "start_time": "2021-04-28T16:43:08.322140Z"
    }
   },
   "outputs": [],
   "source": [
    "USC_train_features = np.load(\"usc_multi/train_features_USC_mod_al.npy\") ### <- change file path\n",
    "USC_test_features = np.load(\"usc_multi/test_features_USC_mod_al.npy\")\n",
    "USC_train_labels = np.load(\"usc_multi/train_labels_USC_mod_al.npy\")\n",
    "USC_test_labels = np.load(\"usc_multi/test_labels_USC_mod_al.npy\")"
   ]
  },
  {
   "cell_type": "code",
   "execution_count": 5,
   "metadata": {
    "ExecuteTime": {
     "end_time": "2021-04-28T16:43:11.526196Z",
     "start_time": "2021-04-28T16:43:11.522206Z"
    }
   },
   "outputs": [],
   "source": [
    "# Hyperparameters\n",
    "num_epochs = 15\n",
    "batch_size = 10\n",
    "learning_rate = 0.0001"
   ]
  },
  {
   "cell_type": "code",
   "execution_count": 6,
   "metadata": {
    "ExecuteTime": {
     "end_time": "2021-04-28T16:43:11.538163Z",
     "start_time": "2021-04-28T16:43:11.528191Z"
    }
   },
   "outputs": [],
   "source": [
    "USC_train_labels = USC_train_labels.astype(int) - 1\n",
    "USC_test_labels = USC_test_labels.astype(int) - 1"
   ]
  },
  {
   "cell_type": "code",
   "execution_count": 7,
   "metadata": {
    "ExecuteTime": {
     "end_time": "2021-04-28T16:43:12.215354Z",
     "start_time": "2021-04-28T16:43:11.539161Z"
    }
   },
   "outputs": [],
   "source": [
    "# Transform to torch tensor\n",
    "tensor_USC_train_features = torch.Tensor(USC_train_features) \n",
    "tensor_USC_train_labels = torch.Tensor(USC_train_labels)\n",
    "tensor_USC_test_features = torch.Tensor(USC_test_features) \n",
    "tensor_USC_test_labels = torch.Tensor(USC_test_labels)\n",
    "# Add one dimension of channel\n",
    "tensor_USC_train_features = torch.unsqueeze(tensor_USC_train_features, 1)\n",
    "tensor_USC_test_features = torch.unsqueeze(tensor_USC_test_features, 1)\n",
    "# Create datset\n",
    "train_dataset_USC = TensorDataset(tensor_USC_train_features,tensor_USC_train_labels)\n",
    "test_dataset_USC = TensorDataset(tensor_USC_test_features,tensor_USC_test_labels)"
   ]
  },
  {
   "cell_type": "code",
   "execution_count": 8,
   "metadata": {
    "ExecuteTime": {
     "end_time": "2021-04-28T16:43:12.221337Z",
     "start_time": "2021-04-28T16:43:12.216352Z"
    }
   },
   "outputs": [],
   "source": [
    "train_loader = torch.utils.data.DataLoader(dataset=train_dataset_USC, batch_size=batch_size, shuffle=True)\n",
    "test_loader = torch.utils.data.DataLoader(dataset=test_dataset_USC, batch_size=batch_size, shuffle=False)"
   ]
  },
  {
   "cell_type": "code",
   "execution_count": 9,
   "metadata": {
    "ExecuteTime": {
     "end_time": "2021-04-28T16:43:12.260241Z",
     "start_time": "2021-04-28T16:43:12.223332Z"
    }
   },
   "outputs": [
    {
     "name": "stdout",
     "output_type": "stream",
     "text": [
      "torch.Size([10, 1, 18, 384])\n",
      "torch.Size([10])\n"
     ]
    }
   ],
   "source": [
    "for image,label in train_loader:\n",
    "    print(image.size())\n",
    "    print(label.size())\n",
    "    break"
   ]
  },
  {
   "cell_type": "markdown",
   "metadata": {},
   "source": [
    "### Construct LSTM"
   ]
  },
  {
   "cell_type": "code",
   "execution_count": 10,
   "metadata": {
    "ExecuteTime": {
     "end_time": "2021-04-28T16:43:12.271204Z",
     "start_time": "2021-04-28T16:43:12.264225Z"
    }
   },
   "outputs": [],
   "source": [
    "device = torch.device('cuda') if torch.cuda.is_available() else torch.device('cpu')"
   ]
  },
  {
   "cell_type": "code",
   "execution_count": 11,
   "metadata": {
    "ExecuteTime": {
     "end_time": "2021-04-28T16:43:12.285168Z",
     "start_time": "2021-04-28T16:43:12.273199Z"
    }
   },
   "outputs": [],
   "source": [
    "class Cnn(nn.Module):\n",
    "    def __init__(self):\n",
    "        super(Cnn, self).__init__()\n",
    "        self.conv1 = nn.Conv2d(1,32, kernel_size=3, stride=1, padding=1)  ### 10,32,18,384\n",
    "        self.pool = nn.MaxPool2d(2, 2) ### 10,32,9,192 2nd layer\n",
    "        self.conv2 = nn.Conv2d(32,64, kernel_size=3, stride=1, padding=1) ###10,64,9,192 3rd layer\n",
    "    \n",
    "    def forward(self, x):\n",
    "        batch,c,h,w = x.size()\n",
    "        x = self.pool(F.relu(self.conv1(x)))\n",
    "        x = (F.relu(self.conv2(x))) ### 10,64,9,192/ 5,64,9,192\n",
    "        x = x.view(batch,-1) ### 10,110592 \n",
    "        return x"
   ]
  },
  {
   "cell_type": "code",
   "execution_count": 12,
   "metadata": {
    "ExecuteTime": {
     "end_time": "2021-04-28T16:43:12.728980Z",
     "start_time": "2021-04-28T16:43:12.718011Z"
    }
   },
   "outputs": [],
   "source": [
    "class CNN_LSTM(nn.Module): \n",
    "    def __init__(self):\n",
    "        super(CNN_LSTM, self).__init__() ###(num_samples,timesteps,input_dim). \n",
    "        self.cnn = Cnn()\n",
    "        self.rnn = nn.LSTM(\n",
    "            input_size=864, ### [32 <- 216] / [64<-432]/ [128<-864] or single [32 <- 72] / [64<-144]/ [128<-288]\n",
    "            hidden_size=144, \n",
    "            num_layers=3, ### change [1,3,5]\n",
    "            batch_first=True)\n",
    "        self.linear = nn.Linear(144,12)\n",
    "\n",
    "    def forward(self, x):\n",
    "        batch,c,h,w = x.size()\n",
    "        c_out = self.cnn(x) ### 10,110592\n",
    "        r_in = c_out.view(batch,128,-1) ### 10,1,8192\n",
    "        r_out, (h_n, h_c) = self.rnn(r_in)\n",
    "        r_out2 = self.linear(r_out[:, -1, :])\n",
    "        return F.log_softmax(r_out2, dim=1)\n"
   ]
  },
  {
   "cell_type": "code",
   "execution_count": 13,
   "metadata": {
    "ExecuteTime": {
     "end_time": "2021-04-28T16:43:17.597962Z",
     "start_time": "2021-04-28T16:43:13.107339Z"
    }
   },
   "outputs": [],
   "source": [
    "# Choose CPU or GPU\n",
    "# model = ConvNet() #CPU\n",
    "device = torch.device(\"cuda:0\" if torch.cuda.is_available() else \"cpu\")\n",
    "model = CNN_LSTM().to(device)\n",
    "\n",
    "# Loss and optimizer\n",
    "criterion = nn.CrossEntropyLoss()\n",
    "optimizer = optim.Adam(model.parameters(), lr=learning_rate)"
   ]
  },
  {
   "cell_type": "markdown",
   "metadata": {},
   "source": [
    "### Combine"
   ]
  },
  {
   "cell_type": "code",
   "execution_count": 14,
   "metadata": {
    "ExecuteTime": {
     "end_time": "2021-04-28T16:59:08.496242Z",
     "start_time": "2021-04-28T16:43:26.770536Z"
    },
    "scrolled": true
   },
   "outputs": [
    {
     "name": "stdout",
     "output_type": "stream",
     "text": [
      "Epoch [1/15], Step [1000/3073], Loss: 1.4265, Accuracy: 40.00%\n",
      "Epoch [1/15], Step [2000/3073], Loss: 1.1871, Accuracy: 50.00%\n",
      "Epoch [1/15], Step [3000/3073], Loss: 2.3320, Accuracy: 50.00%\n",
      "Epoch [2/15], Step [1000/3073], Loss: 0.9166, Accuracy: 50.00%\n",
      "Epoch [2/15], Step [2000/3073], Loss: 1.3889, Accuracy: 40.00%\n",
      "Epoch [2/15], Step [3000/3073], Loss: 1.0805, Accuracy: 50.00%\n",
      "Epoch [3/15], Step [1000/3073], Loss: 0.6377, Accuracy: 60.00%\n",
      "Epoch [3/15], Step [2000/3073], Loss: 0.9083, Accuracy: 40.00%\n",
      "Epoch [3/15], Step [3000/3073], Loss: 1.0480, Accuracy: 50.00%\n",
      "Epoch [4/15], Step [1000/3073], Loss: 1.2592, Accuracy: 40.00%\n",
      "Epoch [4/15], Step [2000/3073], Loss: 0.8499, Accuracy: 80.00%\n",
      "Epoch [4/15], Step [3000/3073], Loss: 0.9910, Accuracy: 60.00%\n",
      "Epoch [5/15], Step [1000/3073], Loss: 0.5493, Accuracy: 90.00%\n",
      "Epoch [5/15], Step [2000/3073], Loss: 0.5516, Accuracy: 70.00%\n",
      "Epoch [5/15], Step [3000/3073], Loss: 0.5289, Accuracy: 90.00%\n",
      "Epoch [6/15], Step [1000/3073], Loss: 0.4152, Accuracy: 90.00%\n",
      "Epoch [6/15], Step [2000/3073], Loss: 0.3539, Accuracy: 90.00%\n",
      "Epoch [6/15], Step [3000/3073], Loss: 0.7855, Accuracy: 80.00%\n",
      "Epoch [7/15], Step [1000/3073], Loss: 0.9171, Accuracy: 40.00%\n",
      "Epoch [7/15], Step [2000/3073], Loss: 0.7656, Accuracy: 70.00%\n",
      "Epoch [7/15], Step [3000/3073], Loss: 0.8344, Accuracy: 60.00%\n",
      "Epoch [8/15], Step [1000/3073], Loss: 1.2686, Accuracy: 60.00%\n",
      "Epoch [8/15], Step [2000/3073], Loss: 1.0598, Accuracy: 50.00%\n",
      "Epoch [8/15], Step [3000/3073], Loss: 0.4467, Accuracy: 80.00%\n",
      "Epoch [9/15], Step [1000/3073], Loss: 0.8020, Accuracy: 80.00%\n",
      "Epoch [9/15], Step [2000/3073], Loss: 0.3254, Accuracy: 100.00%\n",
      "Epoch [9/15], Step [3000/3073], Loss: 1.1262, Accuracy: 70.00%\n",
      "Epoch [10/15], Step [1000/3073], Loss: 0.8960, Accuracy: 70.00%\n",
      "Epoch [10/15], Step [2000/3073], Loss: 1.1068, Accuracy: 50.00%\n",
      "Epoch [10/15], Step [3000/3073], Loss: 0.3873, Accuracy: 70.00%\n",
      "Epoch [11/15], Step [1000/3073], Loss: 0.9490, Accuracy: 60.00%\n",
      "Epoch [11/15], Step [2000/3073], Loss: 0.9851, Accuracy: 70.00%\n",
      "Epoch [11/15], Step [3000/3073], Loss: 0.5662, Accuracy: 90.00%\n",
      "Epoch [12/15], Step [1000/3073], Loss: 0.3977, Accuracy: 90.00%\n",
      "Epoch [12/15], Step [2000/3073], Loss: 0.5275, Accuracy: 80.00%\n",
      "Epoch [12/15], Step [3000/3073], Loss: 0.3294, Accuracy: 90.00%\n",
      "Epoch [13/15], Step [1000/3073], Loss: 0.6406, Accuracy: 70.00%\n",
      "Epoch [13/15], Step [2000/3073], Loss: 1.0504, Accuracy: 60.00%\n",
      "Epoch [13/15], Step [3000/3073], Loss: 0.5042, Accuracy: 80.00%\n",
      "Epoch [14/15], Step [1000/3073], Loss: 0.8538, Accuracy: 80.00%\n",
      "Epoch [14/15], Step [2000/3073], Loss: 0.5912, Accuracy: 80.00%\n",
      "Epoch [14/15], Step [3000/3073], Loss: 0.5139, Accuracy: 80.00%\n",
      "Epoch [15/15], Step [1000/3073], Loss: 0.4627, Accuracy: 90.00%\n",
      "Epoch [15/15], Step [2000/3073], Loss: 1.0002, Accuracy: 70.00%\n",
      "Epoch [15/15], Step [3000/3073], Loss: 0.7070, Accuracy: 60.00%\n",
      "Wall time: 15min 41s\n"
     ]
    }
   ],
   "source": [
    "%%time\n",
    "total_step = len(train_loader)\n",
    "loss_list = []\n",
    "acc_list = []\n",
    "for epoch in range(num_epochs):\n",
    "    for i, (images, labels) in enumerate(train_loader):\n",
    "        # Run the forward pass\n",
    "        outputs = model(images.to(device))\n",
    "        loss = criterion(outputs, labels.to(device).long())\n",
    "        loss_list.append(loss.item())\n",
    "\n",
    "        # Backprop and perform Adam optimisation\n",
    "        optimizer.zero_grad()\n",
    "        loss.backward()\n",
    "        optimizer.step()\n",
    "\n",
    "        # Track the accuracy\n",
    "        total = labels.size(0)\n",
    "        _, predicted = torch.max(outputs.data, 1)\n",
    "        correct = (predicted == labels.to(device)).sum().item()\n",
    "        acc_list.append(correct / total)\n",
    "\n",
    "        if (i + 1) % 1000 == 0:\n",
    "            print('Epoch [{}/{}], Step [{}/{}], Loss: {:.4f}, Accuracy: {:.2f}%'\n",
    "                  .format(epoch + 1, num_epochs, i + 1, total_step, loss.item(),\n",
    "                          (correct / total) * 100))"
   ]
  },
  {
   "cell_type": "code",
   "execution_count": 15,
   "metadata": {
    "ExecuteTime": {
     "end_time": "2021-04-28T16:59:08.512200Z",
     "start_time": "2021-04-28T16:59:08.502226Z"
    }
   },
   "outputs": [],
   "source": [
    "classes = ('WALKING_F','WALKING_L','WALKING_R','WALKING_UPSTAIRS', 'WALKING_DOWNSTAIRS',\"Running_F\",\n",
    "           \"Jumping_up\",'SITTING', 'STANDING', 'Sleeping',\"Elevator_up\",\"Elevator_down\")"
   ]
  },
  {
   "cell_type": "code",
   "execution_count": 16,
   "metadata": {
    "ExecuteTime": {
     "end_time": "2021-04-28T16:59:20.250376Z",
     "start_time": "2021-04-28T16:59:08.515191Z"
    }
   },
   "outputs": [
    {
     "name": "stdout",
     "output_type": "stream",
     "text": [
      "Test Accuracy of the model on the UCIHAR test images: 78.17601943959298 %\n"
     ]
    },
    {
     "data": {
      "image/png": "[encoded data removed]",
      "text/plain": [
       "<Figure size 504x504 with 1 Axes>"
      ]
     },
     "metadata": {
      "needs_background": "light"
     },
     "output_type": "display_data"
    }
   ],
   "source": [
    "from sklearn import metrics\n",
    "import seaborn as sns\n",
    "# Test the model on GPU\n",
    "model.eval()\n",
    "all_labels = []\n",
    "all_predictions = []\n",
    "with torch.no_grad():\n",
    "    correct = 0\n",
    "    total = 0\n",
    "    for images, labels in test_loader:\n",
    "        outputs = model(images.to(device))\n",
    "        _, predicted = torch.max(outputs.data, 1)\n",
    "        all_predictions.append(predicted)\n",
    "        all_labels.append(labels)\n",
    "        total += labels.size(0)\n",
    "        correct += (predicted == labels.to(device)).sum().item()\n",
    "\n",
    "    print('Test Accuracy of the model on the UCIHAR test images: {} %'.format((correct / total) * 100))\n",
    "\n",
    "mat = metrics.confusion_matrix(torch.cat(all_predictions).cpu(), torch.cat(all_labels).cpu())\n",
    "plt.figure(figsize=(7,7))\n",
    "sns.heatmap(mat.T, square=True, annot=True, fmt='d', cbar=False,\n",
    "            xticklabels=classes, yticklabels=classes)\n",
    "plt.xlabel('true label')\n",
    "plt.ylabel('predicted label');"
   ]
  },
  {
   "cell_type": "code",
   "execution_count": null,
   "metadata": {},
   "outputs": [],
   "source": []
  }
 ],
 "metadata": {
  "kernelspec": {
   "display_name": "Python 3",
   "language": "python",
   "name": "python3"
  },
  "language_info": {
   "codemirror_mode": {
    "name": "ipython",
    "version": 3
   },
   "file_extension": ".py",
   "mimetype": "text/x-python",
   "name": "python",
   "nbconvert_exporter": "python",
   "pygments_lexer": "ipython3",
   "version": "3.8.3"
  }
 },
 "nbformat": 4,
 "nbformat_minor": 4
}
